{
 "cells": [
  {
   "cell_type": "code",
   "execution_count": 1,
   "metadata": {
    "collapsed": true
   },
   "outputs": [
    {
     "name": "stderr",
     "output_type": "stream",
     "text": [
      "C:\\Users\\a\\AppData\\Local\\Temp/ipykernel_4952/1370226561.py:9: DeprecationWarning: Seeding based on hashing is deprecated\n",
      "since Python 3.9 and will be removed in a subsequent version. The only \n",
      "supported seed types are: None, int, float, str, bytes, and bytearray.\n",
      "  random.seed(datetime.datetime.now())\n"
     ]
    }
   ],
   "source": [
    "from urllib.request import urlopen\n",
    "from urllib.parse import urlparse\n",
    "from bs4 import BeautifulSoup\n",
    "import re\n",
    "import datetime\n",
    "import random\n",
    "\n",
    "page = set()\n",
    "random.seed(datetime.datetime.now())"
   ]
  },
  {
   "cell_type": "code",
   "execution_count": 9,
   "outputs": [],
   "source": [
    "# 获取页面中所有的内链链表\n",
    "def getInternalLinks(bs, includeUrl):\n",
    "    includeUrl = '{}://{}'.format(urlparse(includeUrl).scheme, urlparse(includeUrl).netloc)\n",
    "    internalLinks = []\n",
    "\n",
    "    # 找出所有以\"/\"开头的链接\n",
    "    for link in bs.find_all('a', href=re.compile('^(/|.*' + includeUrl + ')')):\n",
    "        if link.attrs['href'] is not None:\n",
    "            if link.attrs['href'] not in internalLinks:\n",
    "                if link.attrs['href'].startswith('/'):\n",
    "                    internalLinks.append(includeUrl + link.attrs['href'])\n",
    "                else:\n",
    "                    internalLinks.append(link.attrs['href'])\n",
    "\n",
    "    return internalLinks"
   ],
   "metadata": {
    "collapsed": false,
    "pycharm": {
     "name": "#%%\n"
    }
   }
  },
  {
   "cell_type": "code",
   "execution_count": 3,
   "outputs": [],
   "source": [
    "# 获取页面中所有外链的列表\n",
    "def getExternalLinks(bs, excludeUrl):\n",
    "    externalLinks = []\n",
    "\n",
    "    # 找出所有以\"http\"或\"www\"开头且不包含当前URL的链接\n",
    "    for link in bs.find_all('a', href=re.compile('^(http|www)((?!' + excludeUrl + ').)*$')):\n",
    "        if link.attrs['href'] is not None:\n",
    "            if link.attrs['href'] not in externalLinks:\n",
    "                externalLinks.append(link.attrs['href'])\n",
    "\n",
    "    return externalLinks"
   ],
   "metadata": {
    "collapsed": false,
    "pycharm": {
     "name": "#%%\n"
    }
   }
  },
  {
   "cell_type": "code",
   "execution_count": 4,
   "outputs": [],
   "source": [
    "# 随机获取一个外链\n",
    "def getRandomExternalLink(startingPage):\n",
    "    html = urlopen(startingPage)\n",
    "    bs = BeautifulSoup(html, 'html.parser')\n",
    "    externalLinks = getExternalLinks(bs, urlparse(startingPage).netloc)\n",
    "    if len(externalLinks) == 0:\n",
    "        print(\"No external links, looking around the site for one\")\n",
    "        domain = f\"{urlparse(startingPage).scheme}://{urlparse(startingPage).netloc}\"\n",
    "        internalLinks = getInternalLinks(bs, domain)\n",
    "        return getRandomExternalLink(internalLinks[random.randint(0, len(internalLinks) - 1)])\n",
    "    else:\n",
    "        return externalLinks[random.randint(0, len(externalLinks) - 1)]"
   ],
   "metadata": {
    "collapsed": false,
    "pycharm": {
     "name": "#%%\n"
    }
   }
  },
  {
   "cell_type": "code",
   "execution_count": 5,
   "outputs": [],
   "source": [
    "def followExternalOnly(startingSite):\n",
    "    externalLink = getRandomExternalLink(startingSite)\n",
    "    print(f\"Random external link is {externalLink}\")\n",
    "    followExternalOnly(externalLink)"
   ],
   "metadata": {
    "collapsed": false,
    "pycharm": {
     "name": "#%%\n"
    }
   }
  },
  {
   "cell_type": "code",
   "execution_count": 6,
   "outputs": [
    {
     "data": {
      "text/plain": "[<a href=\"#maincontent\"><span class=\"skipToMain-text\">Skip to main content</span></a>,\n <a aria-current=\"page\" class=\"logo\" href=\"https://www.oreilly.com\" title=\"home page\"><img alt=\"O'Reilly home\" onerror=\"this.src='https://cdn.oreillystatic.com/images/sitewide-headers/oreilly_logo_mark_red_@2x.png'; this.onerror=null;\" src=\"https://cdn.oreillystatic.com/images/sitewide-headers/oreilly_logo_mark_red.svg\"/></a>,\n <a href=\"https://learning.oreilly.com/accounts/login-check/\">Sign In</a>,\n <a class=\"menuList-cta\" href=\"https://www.oreilly.com/online-learning/try-now.html\" id=\"nav-tryNow\">Try Now</a>,\n <a href=\"https://www.oreilly.com/online-learning/teams.html\">Teams</a>,\n <a href=\"https://www.oreilly.com/online-learning/teams.html\">For business</a>,\n <a href=\"https://www.oreilly.com/online-learning/government.html\">For government</a>,\n <a href=\"https://www.oreilly.com/online-learning/academic.html\">For higher ed</a>,\n <a href=\"https://www.oreilly.com/online-learning/individuals.html\">Individuals</a>,\n <a href=\"https://www.oreilly.com/online-learning/features.html\">Features</a>,\n <a href=\"https://www.oreilly.com/online-learning/features.html\">All features</a>,\n <a href=\"https://www.oreilly.com/online-learning/feature-certification.html\">Certifications</a>,\n <a href=\"https://www.oreilly.com/online-learning/intro-interactive-learning.html\">Interactive learning</a>,\n <a href=\"https://www.oreilly.com/online-learning/live-events.html\">Live events</a>,\n <a href=\"https://www.oreilly.com/online-learning/feature-answers.html\">Answers</a>,\n <a href=\"https://www.oreilly.com/radar/\">Blog</a>,\n <a href=\"https://www.oreilly.com/content-marketing-solutions.html\">Content sponsorship</a>,\n <a class=\"btnCTA-blue\" href=\"https://www.oreilly.com/online-learning/teams.html\" id=\"requestDemo1-cta\"><span class=\"inner\">Request a demo for your teams</span></a>,\n <a class=\"textCTA-blue secondary\" href=\"https://learning.oreilly.com/p/register/\" id=\"tryFree1-cta\"><span class=\"inner\">Try it free</span></a>,\n <a class=\"sectionFigure\" href=\"https://www.oreilly.com/online-learning/the-cost-of-doing-nothing.html\" id=\"costOfDoingNothing-image\">\n <img alt=\"\" src=\"https://cdn.oreillystatic.com/oreilly/images/the_cost_of_doing_nothing_screenshot.png\"/>\n </a>,\n <a class=\"textCTA-light\" href=\"https://www.oreilly.com/online-learning/the-cost-of-doing-nothing.html\" id=\"costOfDoingNothing-cta\"><span class=\"inner\">Read more</span></a>,\n <a class=\"sectionFigure\" href=\"https://www.oreilly.com/online-learning/radar-event-building-workforce-2022.html\" id=\"radar-image\">\n <img alt=\"Radar Event: Building the Workforce of the Future\" src=\"https://cdn.oreillystatic.com/oreilly/images/radar-event-2022/homepage_blurb_1240x600.jpg\"/>\n </a>,\n <a class=\"textCTA-light\" href=\"https://www.oreilly.com/online-learning/radar-event-building-workforce-2022.html\" id=\"radar-cta\"><span class=\"inner\">Register free</span></a>,\n <a href=\"https://learning.oreilly.com/search/?query=author%3A%22Arianne%20Dee%22&amp;extended_publisher_data=true&amp;highlight=true&amp;include_assessments=false&amp;include_case_studies=true&amp;include_courses=true&amp;include_playlists=true&amp;include_collections=true&amp;include_notebooks=true&amp;include_sandboxes=true&amp;include_scenarios=true&amp;is_academic_institution_account=false&amp;source=suggestion&amp;sort=date_added&amp;facet_json=true&amp;json_facets=true&amp;page=0&amp;include_facets=false\" style=\"background-image: url(https://cdn.oreillystatic.com/images/live-online-training/39040-720x720.jpg)\">\n <div class=\"text\">\n <span class=\"name\">Arianne Dee</span>\n <span class=\"affiliation\">University of British Columbia</span>\n </div>\n </a>,\n <a href=\"https://learning.oreilly.com/search/?query=author%3A%22Bruno%20Gon%C3%A7alves%22&amp;extended_publisher_data=true&amp;highlight=true&amp;include_assessments=false&amp;include_case_studies=true&amp;include_courses=true&amp;include_playlists=true&amp;include_collections=true&amp;include_notebooks=true&amp;include_sandboxes=true&amp;include_scenarios=true&amp;is_academic_institution_account=false&amp;source=user&amp;sort=date_added&amp;facet_json=true&amp;json_facets=true&amp;page=0&amp;include_facets=false\" style=\"background-image: url(https://cdn.oreillystatic.com/images/live-online-training/39420-720x720.jpg)\">\n <div class=\"text\">\n <span class=\"name\">Bruno Gonçalves</span>\n <span class=\"affiliation\">Senior Data Scientist</span>\n </div>\n </a>,\n <a href=\"https://learning.oreilly.com/search/?query=author%3A%22Kelsey%20Hightower%22&amp;extended_publisher_data=true&amp;highlight=true&amp;include_assessments=false&amp;include_case_studies=true&amp;include_courses=true&amp;include_playlists=true&amp;include_collections=true&amp;include_notebooks=true&amp;include_sandboxes=true&amp;include_scenarios=true&amp;is_academic_institution_account=false&amp;source=user&amp;sort=date_added&amp;facet_json=true&amp;json_facets=true&amp;page=0&amp;include_facets=false\" style=\"background-image: url(https://cdn.oreillystatic.com/oreilly/images/kelsey_hightower_color_400x400.jpg)\">\n <div class=\"text\">\n <span class=\"name\">Kelsey Hightower</span>\n <span class=\"affiliation\">Google Cloud Platform</span>\n </div>\n </a>,\n <a href=\"https://learning.oreilly.com/search/?query=author%3A%22Sari%20Greene%22&amp;extended_publisher_data=true&amp;highlight=true&amp;include_assessments=false&amp;include_case_studies=true&amp;include_courses=true&amp;include_playlists=true&amp;include_collections=true&amp;include_notebooks=true&amp;include_sandboxes=true&amp;include_scenarios=true&amp;is_academic_institution_account=false&amp;source=user&amp;sort=date_added&amp;facet_json=true&amp;json_facets=true&amp;page=0&amp;include_facets=false\" style=\"background-image: url(https://cdn.oreillystatic.com/images/live-online-training/38263-720x720.jpg)\">\n <div class=\"text\">\n <span class=\"name\">Sari Greene</span>\n <span class=\"affiliation\">Cybersecurity practitioner</span>\n </div>\n </a>,\n <a href=\"https://learning.oreilly.com/search/?query=author%3A%22Neal%20Ford%22&amp;extended_publisher_data=true&amp;highlight=true&amp;include_assessments=false&amp;include_case_studies=true&amp;include_courses=true&amp;include_playlists=true&amp;include_collections=true&amp;include_notebooks=true&amp;include_sandboxes=true&amp;include_scenarios=true&amp;is_academic_institution_account=false&amp;source=user&amp;sort=date_added&amp;facet_json=true&amp;json_facets=true&amp;page=0&amp;include_facets=false\" style=\"background-image: url(https://cdn.oreillystatic.com/images/live-online-training/38528-720x720.jpg)\">\n <div class=\"text\">\n <span class=\"name\">Neal Ford</span>\n <span class=\"affiliation\">Software Architect</span>\n </div>\n </a>,\n <a href=\"https://learning.oreilly.com/search/?query=author%3A%22Ken%20Kousen%22&amp;extended_publisher_data=true&amp;highlight=true&amp;include_assessments=false&amp;include_case_studies=true&amp;include_courses=true&amp;include_playlists=true&amp;include_collections=true&amp;include_notebooks=true&amp;include_sandboxes=true&amp;include_scenarios=true&amp;is_academic_institution_account=false&amp;source=user&amp;sort=date_added&amp;facet_json=true&amp;json_facets=true&amp;page=0&amp;include_facets=false\" style=\"background-image: url(https://cdn.oreillystatic.com/oreilly/images/ken-kousen-400x400.jpg)\">\n <div class=\"text\">\n <span class=\"name\">Ken Kousen</span>\n <span class=\"affiliation\">Java Champion</span>\n </div>\n </a>,\n <a class=\"textCTA-light\" href=\"https://www.oreilly.com/online-learning/intro-interactive-learning.html\"><span class=\"inner\">See how it works</span></a>,\n <a class=\"textCTA-light\" href=\"https://www.oreilly.com/online-learning/feature-answers.html\"><span class=\"inner\">Start learning smarter</span></a>,\n <a class=\"textCTA-dark\" href=\"https://www.oreilly.com/online-learning/live-online-sessions.html\"><span class=\"inner\">Learn from experts</span></a>,\n <a class=\"textCTA-dark\" href=\"https://www.oreilly.com/online-learning/feature-certification.html\"><span class=\"inner\">Help prove their proficiency</span></a>,\n <a class=\"btnCTA-blue\" href=\"https://www.oreilly.com/online-learning/enterprise.html\" id=\"requestDemo2-cta\"><span class=\"inner\">Request a  demo</span></a>,\n <a class=\"textCTA-blue\" href=\"https://learning.oreilly.com/p/register/\" id=\"tryFree2-cta\"><span class=\"inner\">Try it free</span></a>,\n <a class=\"textCTA-light\" href=\"https://www.oreilly.com/diversity/\"><span class=\"inner\">Join us</span></a>,\n <a href=\"/about/\">About O’Reilly</a>,\n <a href=\"/work-with-us.html\">Teach/write/train</a>,\n <a href=\"/careers/\">Careers</a>,\n <a href=\"/partner/signup.csp\">Community partners</a>,\n <a href=\"/affiliates/\">Affiliate program</a>,\n <a href=\"/partner/reseller-program.html\">Reseller program</a>,\n <a href=\"/online-learning/rfp.html\">Submit an RFP</a>,\n <a href=\"/diversity/\">Diversity</a>,\n <a href=\"/content-marketing-solutions.html\" id=\"footerSponsorshipLink\">O’Reilly for marketers</a>,\n <a href=\"/online-learning/support/\">Support</a>,\n <a href=\"/about/contact.html\">Contact us</a>,\n <a href=\"/emails/newsletters/\">Newsletters</a>,\n <a href=\"/privacy.html\">Privacy policy</a>,\n <a href=\"https://twitter.com/oreillymedia\" target=\"_blank\"><svg style=\"enable-background:new 0 0 400 400;\" version=\"1.1\" viewbox=\"0 0 400 400\" x=\"0px\" xml:space=\"preserve\" xmlns=\"http://www.w3.org/2000/svg\" xmlns:xlink=\"http://www.w3.org/1999/xlink\" y=\"0px\"><style type=\"text/css\">.st0{fill:#ee0000;}.st1{fill:#FFFFFF;}</style><g id=\"Red\"><circle class=\"st0\" cx=\"200\" cy=\"200\" r=\"200\"></circle></g><g id=\"Logo__x2014__FIXED\"><path class=\"st1\" d=\"M163.4,305.5c88.7,0,137.2-73.5,137.2-137.2c0-2.1,0-4.2-0.1-6.2c9.4-6.8,17.6-15.3,24.1-25 c-8.6,3.8-17.9,6.4-27.7,7.6c10-6,17.6-15.4,21.2-26.7c-9.3,5.5-19.6,9.5-30.6,11.7c-8.8-9.4-21.3-15.2-35.2-15.2 c-26.6,0-48.2,21.6-48.2,48.2c0,3.8,0.4,7.5,1.3,11c-40.1-2-75.6-21.2-99.4-50.4c-4.1,7.1-6.5,15.4-6.5,24.2 c0,16.7,8.5,31.5,21.5,40.1c-7.9-0.2-15.3-2.4-21.8-6c0,0.2,0,0.4,0,0.6c0,23.4,16.6,42.8,38.7,47.3c-4,1.1-8.3,1.7-12.7,1.7 c-3.1,0-6.1-0.3-9.1-0.9c6.1,19.2,23.9,33.1,45,33.5c-16.5,12.9-37.3,20.6-59.9,20.6c-3.9,0-7.7-0.2-11.5-0.7 C110.8,297.5,136.2,305.5,163.4,305.5\"></path></g></svg></a>,\n <a href=\"https://www.linkedin.com/company/oreilly-media\" target=\"_blank\"><svg data-name=\"Layer 1\" viewbox=\"0 0 32.25 32.25\" xmlns=\"http://www.w3.org/2000/svg\"><defs><style>.cls-1{fill:#E00;fill-rule:evenodd;}</style></defs><title>linkedin-logo</title><path class=\"cls-1\" d=\"M17.43,13.53v0l0,0ZM16.12,0A16.13,16.13,0,1,0,32.25,16.12,16.12,16.12,0,0,0,16.12,0ZM11.77,22.92H8.12v-11h3.65ZM9.94,10.44h0a1.89,1.89,0,0,1-2-1.89A1.91,1.91,0,0,1,10,6.65a1.9,1.9,0,1,1,0,3.79Zm15,12.48H21.28V17.05c0-1.48-.53-2.49-1.85-2.49a2,2,0,0,0-1.88,1.34,2.63,2.63,0,0,0-.12.89v6.13H13.79s.05-10,0-11h3.64V13.5a3.63,3.63,0,0,1,3.29-1.82c2.4,0,4.21,1.57,4.21,4.95Z\"></path></svg></a>,\n <a href=\"https://www.youtube.com/user/OreillyMedia\" target=\"_blank\"><svg data-name=\"Layer 1\" viewbox=\"0 0 32.25 32.25\" xmlns=\"http://www.w3.org/2000/svg\"><defs><style>.cls-1{fill:#E00;fill-rule:evenodd;}</style></defs><title>youtube-logo</title><path class=\"cls-1\" d=\"M18.35,18.68a.89.89,0,0,0-.86.63V16.94h-1v7.59h1v-.59a.92.92,0,0,0,.89.74c.52,0,.86-.36,1-1.07a8.56,8.56,0,0,0,.14-1.9,10.47,10.47,0,0,0-.12-1.93C19.21,19.05,18.87,18.68,18.35,18.68Zm.09,4.14c-.05.52-.2.77-.45.77s-.43-.21-.49-.63a7.22,7.22,0,0,1,0-1c0-.72,0-1.14,0-1.26.07-.58.23-.88.51-.88s.4.27.46.79c0,.09,0,.47,0,1.13S18.46,22.71,18.44,22.82ZM8.61,18.19H9.86v6.34H11V18.19H12.2V16.94H8.61Zm7.71-6.12c.27,0,.43-.22.49-.66,0-.09,0-.45,0-1.07V9.78c0-.58,0-.93,0-1-.07-.43-.23-.65-.48-.65s-.41.19-.48.57a8.79,8.79,0,0,0,0,1v.53c0,.71,0,1.09,0,1.16C15.88,11.82,16.05,12.07,16.32,12.07Zm-1.74,10.4a2.92,2.92,0,0,1-.06.71c-.07.25-.2.37-.4.37s-.32-.11-.38-.34a2.63,2.63,0,0,1-.05-.66V18.83h-1v4.48c0,.91.33,1.37,1,1.37A1,1,0,0,0,14.6,24v.57h1v-5.7h-1Zm7.1-3.79a1.35,1.35,0,0,0-1.22.59,2.48,2.48,0,0,0-.3,1.07c0,.23,0,.61,0,1.16s0,1.13,0,1.37a2.93,2.93,0,0,0,.35,1.27,1.25,1.25,0,0,0,1.14.54,1.36,1.36,0,0,0,1.13-.45,2.29,2.29,0,0,0,.37-1.43s0-.07,0-.11v-.12h-1c0,.75-.17,1.12-.51,1.12s-.38-.18-.45-.56a4.68,4.68,0,0,1-.06-.9c0-.18,0-.31,0-.37h2v-.43a4.86,4.86,0,0,0-.3-2.11A1.28,1.28,0,0,0,21.68,18.68ZM22.15,21h-1c0-.05,0-.11,0-.16v-.08a1.64,1.64,0,0,1,.11-.8.39.39,0,0,1,.38-.23.42.42,0,0,1,.43.33,2.32,2.32,0,0,1,.07.7Zm-6-21A16.13,16.13,0,1,0,32.25,16.12,16.12,16.12,0,0,0,16.12,0Zm2.51,7.2h1V11a2.52,2.52,0,0,0,.06.66c.06.23.18.34.38.34s.34-.12.41-.37a3.76,3.76,0,0,0,.05-.71V7.2h1v5.74h-1v-.57a1,1,0,0,1-.93.72c-.66,0-1-.46-1-1.38ZM15,8a1.29,1.29,0,0,1,1.33-.92A1.3,1.3,0,0,1,17.65,8a6.77,6.77,0,0,1,.23,2.1,6.77,6.77,0,0,1-.23,2.1,1.3,1.3,0,0,1-1.32.92A1.29,1.29,0,0,1,15,12.17a6.77,6.77,0,0,1-.23-2.1A6.86,6.86,0,0,1,15,8ZM11.45,5.3l.89,2.87.88-2.87H14.4L12.88,9.7v3.24h-1.1V9.7L10.24,5.3ZM24.93,23.91a3,3,0,0,1-3,3h-12a3,3,0,0,1-3-3V18.05a3,3,0,0,1,3-3h12a3,3,0,0,1,3,3Z\"></path></svg></a>,\n <a href=\"https://itunes.apple.com/us/app/safari-to-go/id881697395\"><img alt=\"Apple app store\" src=\"https://cdn.oreillystatic.com/oreilly/images/app-store-logo.png\"/></a>,\n <a href=\"https://play.google.com/store/apps/details?id=com.safariflow.queue\"><img alt=\"Google play store\" src=\"https://cdn.oreillystatic.com/oreilly/images/google-play-logo.png\"/></a>,\n <a href=\"https://channelstore.roku.com/details/c8a2d0096693eb9455f6ac165003ee06/oreilly\"><img alt=\"Roku Payers and TVs\" src=\"https://cdn.oreillystatic.com/oreilly/images/roku-tv-logo.png\"/></a>,\n <a href=\"https://www.amazon.com/OReilly-Media-Inc/dp/B087YYHL5C/ref=sr_1_2?dchild=1&amp;keywords=oreilly&amp;qid=1604964116&amp;s=mobile-apps&amp;sr=1-2\"><img alt=\"Amazon appstore\" src=\"https://cdn.oreillystatic.com/oreilly/images/amazon-appstore-logo.png\"/></a>,\n <a href=\"https://www.oreilly.com/privacy.html?donotsell=show\">Do not sell my personal information</a>,\n <a aria-current=\"page\" href=\"https://www.oreilly.com\" title=\"home page\">\n <img alt=\"O'Reilly home\" class=\"footer-subfooterLogo\" id=\"footer-subfooterLogo\" onerror=\"this.src='https://cdn.oreillystatic.com/images/sitewide-headers/oreilly_logo_mark_red_@2x.png'; this.onerror=null;\" src=\"https://cdn.oreillystatic.com/images/sitewide-headers/oreilly_logo_mark_red.svg\"/>\n </a>,\n <a href=\"/terms/\">Terms of service</a>,\n <a href=\"/privacy.html\">Privacy policy</a>,\n <a href=\"/about/editorial_independence.html\">Editorial independence</a>,\n <a href=\"/2020-modern-slavery-act-transparency-statement.html\">Modern Slavery Act Statement</a>]"
     },
     "execution_count": 6,
     "metadata": {},
     "output_type": "execute_result"
    }
   ],
   "source": [
    "html = urlopen(\"http://oreilly.com\")\n",
    "bs = BeautifulSoup(html, 'html.parser')\n",
    "links = bs.find_all('a')\n",
    "links"
   ],
   "metadata": {
    "collapsed": false,
    "pycharm": {
     "name": "#%%\n"
    }
   }
  },
  {
   "cell_type": "code",
   "execution_count": 10,
   "outputs": [
    {
     "name": "stdout",
     "output_type": "stream",
     "text": [
      "Random external link is https://twitter.com/oreillymedia\n",
      "No external links, looking around the site for one\n",
      "Random external link is https://cdn.cms-twdigitalassets.com/content/dam/legal-twitter/site-assets/tos-aug-19th-2021/Twitter_User_Agreement_EN.pdf\n"
     ]
    },
    {
     "name": "stderr",
     "output_type": "stream",
     "text": [
      "Some characters could not be decoded, and were replaced with REPLACEMENT CHARACTER.\n"
     ]
    },
    {
     "name": "stdout",
     "output_type": "stream",
     "text": [
      "No external links, looking around the site for one\n"
     ]
    },
    {
     "ename": "ValueError",
     "evalue": "empty range for randrange() (0, 0, 0)",
     "output_type": "error",
     "traceback": [
      "\u001B[1;31m---------------------------------------------------------------------------\u001B[0m",
      "\u001B[1;31mValueError\u001B[0m                                Traceback (most recent call last)",
      "\u001B[1;32m~\\AppData\\Local\\Temp/ipykernel_4952/3341924990.py\u001B[0m in \u001B[0;36m<module>\u001B[1;34m\u001B[0m\n\u001B[1;32m----> 1\u001B[1;33m \u001B[0mlinks\u001B[0m \u001B[1;33m=\u001B[0m \u001B[0mfollowExternalOnly\u001B[0m\u001B[1;33m(\u001B[0m\u001B[1;34m\"http://oreilly.com\"\u001B[0m\u001B[1;33m)\u001B[0m\u001B[1;33m\u001B[0m\u001B[1;33m\u001B[0m\u001B[0m\n\u001B[0m\u001B[0;32m      2\u001B[0m \u001B[0mlinks\u001B[0m\u001B[1;33m\u001B[0m\u001B[1;33m\u001B[0m\u001B[0m\n",
      "\u001B[1;32m~\\AppData\\Local\\Temp/ipykernel_4952/2125485171.py\u001B[0m in \u001B[0;36mfollowExternalOnly\u001B[1;34m(startingSite)\u001B[0m\n\u001B[0;32m      2\u001B[0m     \u001B[0mexternalLink\u001B[0m \u001B[1;33m=\u001B[0m \u001B[0mgetRandomExternalLink\u001B[0m\u001B[1;33m(\u001B[0m\u001B[0mstartingSite\u001B[0m\u001B[1;33m)\u001B[0m\u001B[1;33m\u001B[0m\u001B[1;33m\u001B[0m\u001B[0m\n\u001B[0;32m      3\u001B[0m     \u001B[0mprint\u001B[0m\u001B[1;33m(\u001B[0m\u001B[1;34mf\"Random external link is {externalLink}\"\u001B[0m\u001B[1;33m)\u001B[0m\u001B[1;33m\u001B[0m\u001B[1;33m\u001B[0m\u001B[0m\n\u001B[1;32m----> 4\u001B[1;33m     \u001B[0mfollowExternalOnly\u001B[0m\u001B[1;33m(\u001B[0m\u001B[0mexternalLink\u001B[0m\u001B[1;33m)\u001B[0m\u001B[1;33m\u001B[0m\u001B[1;33m\u001B[0m\u001B[0m\n\u001B[0m",
      "\u001B[1;32m~\\AppData\\Local\\Temp/ipykernel_4952/2125485171.py\u001B[0m in \u001B[0;36mfollowExternalOnly\u001B[1;34m(startingSite)\u001B[0m\n\u001B[0;32m      2\u001B[0m     \u001B[0mexternalLink\u001B[0m \u001B[1;33m=\u001B[0m \u001B[0mgetRandomExternalLink\u001B[0m\u001B[1;33m(\u001B[0m\u001B[0mstartingSite\u001B[0m\u001B[1;33m)\u001B[0m\u001B[1;33m\u001B[0m\u001B[1;33m\u001B[0m\u001B[0m\n\u001B[0;32m      3\u001B[0m     \u001B[0mprint\u001B[0m\u001B[1;33m(\u001B[0m\u001B[1;34mf\"Random external link is {externalLink}\"\u001B[0m\u001B[1;33m)\u001B[0m\u001B[1;33m\u001B[0m\u001B[1;33m\u001B[0m\u001B[0m\n\u001B[1;32m----> 4\u001B[1;33m     \u001B[0mfollowExternalOnly\u001B[0m\u001B[1;33m(\u001B[0m\u001B[0mexternalLink\u001B[0m\u001B[1;33m)\u001B[0m\u001B[1;33m\u001B[0m\u001B[1;33m\u001B[0m\u001B[0m\n\u001B[0m",
      "\u001B[1;32m~\\AppData\\Local\\Temp/ipykernel_4952/2125485171.py\u001B[0m in \u001B[0;36mfollowExternalOnly\u001B[1;34m(startingSite)\u001B[0m\n\u001B[0;32m      1\u001B[0m \u001B[1;32mdef\u001B[0m \u001B[0mfollowExternalOnly\u001B[0m\u001B[1;33m(\u001B[0m\u001B[0mstartingSite\u001B[0m\u001B[1;33m)\u001B[0m\u001B[1;33m:\u001B[0m\u001B[1;33m\u001B[0m\u001B[1;33m\u001B[0m\u001B[0m\n\u001B[1;32m----> 2\u001B[1;33m     \u001B[0mexternalLink\u001B[0m \u001B[1;33m=\u001B[0m \u001B[0mgetRandomExternalLink\u001B[0m\u001B[1;33m(\u001B[0m\u001B[0mstartingSite\u001B[0m\u001B[1;33m)\u001B[0m\u001B[1;33m\u001B[0m\u001B[1;33m\u001B[0m\u001B[0m\n\u001B[0m\u001B[0;32m      3\u001B[0m     \u001B[0mprint\u001B[0m\u001B[1;33m(\u001B[0m\u001B[1;34mf\"Random external link is {externalLink}\"\u001B[0m\u001B[1;33m)\u001B[0m\u001B[1;33m\u001B[0m\u001B[1;33m\u001B[0m\u001B[0m\n\u001B[0;32m      4\u001B[0m     \u001B[0mfollowExternalOnly\u001B[0m\u001B[1;33m(\u001B[0m\u001B[0mexternalLink\u001B[0m\u001B[1;33m)\u001B[0m\u001B[1;33m\u001B[0m\u001B[1;33m\u001B[0m\u001B[0m\n",
      "\u001B[1;32m~\\AppData\\Local\\Temp/ipykernel_4952/3989533518.py\u001B[0m in \u001B[0;36mgetRandomExternalLink\u001B[1;34m(startingPage)\u001B[0m\n\u001B[0;32m      8\u001B[0m         \u001B[0mdomain\u001B[0m \u001B[1;33m=\u001B[0m \u001B[1;34mf\"{urlparse(startingPage).scheme}://{urlparse(startingPage).netloc}\"\u001B[0m\u001B[1;33m\u001B[0m\u001B[1;33m\u001B[0m\u001B[0m\n\u001B[0;32m      9\u001B[0m         \u001B[0minternalLinks\u001B[0m \u001B[1;33m=\u001B[0m \u001B[0mgetInternalLinks\u001B[0m\u001B[1;33m(\u001B[0m\u001B[0mbs\u001B[0m\u001B[1;33m,\u001B[0m \u001B[0mdomain\u001B[0m\u001B[1;33m)\u001B[0m\u001B[1;33m\u001B[0m\u001B[1;33m\u001B[0m\u001B[0m\n\u001B[1;32m---> 10\u001B[1;33m         \u001B[1;32mreturn\u001B[0m \u001B[0mgetRandomExternalLink\u001B[0m\u001B[1;33m(\u001B[0m\u001B[0minternalLinks\u001B[0m\u001B[1;33m[\u001B[0m\u001B[0mrandom\u001B[0m\u001B[1;33m.\u001B[0m\u001B[0mrandint\u001B[0m\u001B[1;33m(\u001B[0m\u001B[1;36m0\u001B[0m\u001B[1;33m,\u001B[0m \u001B[0mlen\u001B[0m\u001B[1;33m(\u001B[0m\u001B[0minternalLinks\u001B[0m\u001B[1;33m)\u001B[0m \u001B[1;33m-\u001B[0m \u001B[1;36m1\u001B[0m\u001B[1;33m)\u001B[0m\u001B[1;33m]\u001B[0m\u001B[1;33m)\u001B[0m\u001B[1;33m\u001B[0m\u001B[1;33m\u001B[0m\u001B[0m\n\u001B[0m\u001B[0;32m     11\u001B[0m     \u001B[1;32melse\u001B[0m\u001B[1;33m:\u001B[0m\u001B[1;33m\u001B[0m\u001B[1;33m\u001B[0m\u001B[0m\n\u001B[0;32m     12\u001B[0m         \u001B[1;32mreturn\u001B[0m \u001B[0mexternalLinks\u001B[0m\u001B[1;33m[\u001B[0m\u001B[0mrandom\u001B[0m\u001B[1;33m.\u001B[0m\u001B[0mrandint\u001B[0m\u001B[1;33m(\u001B[0m\u001B[1;36m0\u001B[0m\u001B[1;33m,\u001B[0m\u001B[0mlen\u001B[0m\u001B[1;33m(\u001B[0m\u001B[0mexternalLinks\u001B[0m\u001B[1;33m)\u001B[0m\u001B[1;33m-\u001B[0m\u001B[1;36m1\u001B[0m\u001B[1;33m)\u001B[0m\u001B[1;33m]\u001B[0m\u001B[1;33m\u001B[0m\u001B[1;33m\u001B[0m\u001B[0m\n",
      "\u001B[1;32m~\\.conda\\envs\\python39\\lib\\random.py\u001B[0m in \u001B[0;36mrandint\u001B[1;34m(self, a, b)\u001B[0m\n\u001B[0;32m    336\u001B[0m         \"\"\"\n\u001B[0;32m    337\u001B[0m \u001B[1;33m\u001B[0m\u001B[0m\n\u001B[1;32m--> 338\u001B[1;33m         \u001B[1;32mreturn\u001B[0m \u001B[0mself\u001B[0m\u001B[1;33m.\u001B[0m\u001B[0mrandrange\u001B[0m\u001B[1;33m(\u001B[0m\u001B[0ma\u001B[0m\u001B[1;33m,\u001B[0m \u001B[0mb\u001B[0m\u001B[1;33m+\u001B[0m\u001B[1;36m1\u001B[0m\u001B[1;33m)\u001B[0m\u001B[1;33m\u001B[0m\u001B[1;33m\u001B[0m\u001B[0m\n\u001B[0m\u001B[0;32m    339\u001B[0m \u001B[1;33m\u001B[0m\u001B[0m\n\u001B[0;32m    340\u001B[0m \u001B[1;33m\u001B[0m\u001B[0m\n",
      "\u001B[1;32m~\\.conda\\envs\\python39\\lib\\random.py\u001B[0m in \u001B[0;36mrandrange\u001B[1;34m(self, start, stop, step)\u001B[0m\n\u001B[0;32m    314\u001B[0m             \u001B[1;32mreturn\u001B[0m \u001B[0mistart\u001B[0m \u001B[1;33m+\u001B[0m \u001B[0mself\u001B[0m\u001B[1;33m.\u001B[0m\u001B[0m_randbelow\u001B[0m\u001B[1;33m(\u001B[0m\u001B[0mwidth\u001B[0m\u001B[1;33m)\u001B[0m\u001B[1;33m\u001B[0m\u001B[1;33m\u001B[0m\u001B[0m\n\u001B[0;32m    315\u001B[0m         \u001B[1;32mif\u001B[0m \u001B[0mstep\u001B[0m \u001B[1;33m==\u001B[0m \u001B[1;36m1\u001B[0m\u001B[1;33m:\u001B[0m\u001B[1;33m\u001B[0m\u001B[1;33m\u001B[0m\u001B[0m\n\u001B[1;32m--> 316\u001B[1;33m             \u001B[1;32mraise\u001B[0m \u001B[0mValueError\u001B[0m\u001B[1;33m(\u001B[0m\u001B[1;34m\"empty range for randrange() (%d, %d, %d)\"\u001B[0m \u001B[1;33m%\u001B[0m \u001B[1;33m(\u001B[0m\u001B[0mistart\u001B[0m\u001B[1;33m,\u001B[0m \u001B[0mistop\u001B[0m\u001B[1;33m,\u001B[0m \u001B[0mwidth\u001B[0m\u001B[1;33m)\u001B[0m\u001B[1;33m)\u001B[0m\u001B[1;33m\u001B[0m\u001B[1;33m\u001B[0m\u001B[0m\n\u001B[0m\u001B[0;32m    317\u001B[0m \u001B[1;33m\u001B[0m\u001B[0m\n\u001B[0;32m    318\u001B[0m         \u001B[1;31m# Non-unit step argument supplied.\u001B[0m\u001B[1;33m\u001B[0m\u001B[1;33m\u001B[0m\u001B[0m\n",
      "\u001B[1;31mValueError\u001B[0m: empty range for randrange() (0, 0, 0)"
     ]
    }
   ],
   "source": [
    "links = followExternalOnly(\"http://oreilly.com\")\n",
    "links"
   ],
   "metadata": {
    "collapsed": false,
    "pycharm": {
     "name": "#%%\n"
    }
   }
  },
  {
   "cell_type": "code",
   "execution_count": null,
   "outputs": [],
   "source": [],
   "metadata": {
    "collapsed": false,
    "pycharm": {
     "name": "#%%\n"
    }
   }
  }
 ],
 "metadata": {
  "kernelspec": {
   "display_name": "Python 3",
   "language": "python",
   "name": "python3"
  },
  "language_info": {
   "codemirror_mode": {
    "name": "ipython",
    "version": 2
   },
   "file_extension": ".py",
   "mimetype": "text/x-python",
   "name": "python",
   "nbconvert_exporter": "python",
   "pygments_lexer": "ipython2",
   "version": "2.7.6"
  }
 },
 "nbformat": 4,
 "nbformat_minor": 0
}